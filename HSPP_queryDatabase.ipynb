{
 "cells": [
  {
   "cell_type": "code",
   "execution_count": 26,
   "metadata": {
    "collapsed": true
   },
   "outputs": [],
   "source": [
    "import pymongo\n",
    "from pymongo import MongoClient\n",
    "import csv\n",
    "import os\n",
    "from petl import fromcsv, look, cut, tocsv \n",
    "import numpy as np\n",
    "from StringIO import StringIO\n",
    "import sklearn\n",
    "from sklearn import linear_model\n",
    "import plotly \n",
    "import plotly.plotly as py\n",
    "import re\n",
    "import datetime\n",
    "import matplotlib.pyplot as plt\n",
    "import pandas as pd\n",
    "from sklearn import preprocessing\n",
    "from geopy.distance import vincenty\n",
    "from scipy.stats import norm\n",
    "from numpy import linspace\n",
    "from sklearn.svm import SVR\n",
    "import matplotlib.pyplot as plt\n",
    "from sklearn.ensemble import RandomForestRegressor\n",
    "from sklearn import linear_model\n",
    "from pylab import plot,show,hist,figure,title\n",
    "from sklearn import cross_validation\n",
    "from sklearn import datasets\n",
    "from sklearn import svm\n",
    "from scipy.stats import norm\n",
    "import scipy.stats\n",
    "from matplotlib.legend_handler import HandlerLine2D\n"
   ]
  },
  {
   "cell_type": "code",
   "execution_count": 27,
   "metadata": {
    "collapsed": false
   },
   "outputs": [],
   "source": [
    "conn = pymongo.MongoClient()\n",
    "#conn = pymongo.MongoClient('localhost', 27017)\n",
    "db = conn.mydb_complete\n",
    "fields=['redirect_to_id', 'bathrooms', 'short_last_update_description_ary', 'sqft_price', 'zone2_ids', 'property_type', 'takedown', 'property_id', 'current_photos_count', 'zip', 'current_list_price', 'previous_sqft_price', 'location', 'previous_price', 'status', 'mischaracterized_rental', 'price', 'bedrooms', 'year_built', 'lot_sqft', 'created_at', 'mls_active', 'for_flippers', '_id', 'sqft','orphan_from_mls']\n",
    "\n",
    "cursor=db.property_updates.find({\n",
    "        \"$and\":[\n",
    "            {\"property_type\": \"home\"}, \n",
    "              {\"mischaracterized_rental\":False},\n",
    "              {\"$or\": [{\"status\": \"sold\"}, {\"status\": \"pending\"}]},\n",
    "              {\"sqft\": { \"$exists\": True, \"$ne\":\"\", \"$ne\":0   } },\n",
    "            {\"property_id\": { \"$exists\": True , \"$ne\":\"\" }},\n",
    "              {\"price\": { \"$exists\": True , \"$ne\":\"\", \"$ne\":0 }},\n",
    "              {\"year_built\": { \"$exists\": True , \"$ne\":\"\", \"$ne\":0} },\n",
    "              {\"location\": { \"$exists\": True , \"$ne\":\"\" } },\n",
    "            {\"created_at\": { \"$exists\": True, \"$ne\":\"\"  } }, \n",
    "             ]},{'redirect_to_id':0,'short_last_update_description_ary':0,'property_type':0,\n",
    "                 'current_photos_count':0, 'mischaracterized_rental':0,'mls_active':0,\n",
    "                'orphan_from_mls':0,'_id':0})"
   ]
  },
  {
   "cell_type": "code",
   "execution_count": 28,
   "metadata": {
    "collapsed": false
   },
   "outputs": [
    {
     "ename": "KeyboardInterrupt",
     "evalue": "",
     "output_type": "error",
     "traceback": [
      "\u001b[0;31m---------------------------------------------------------------------------\u001b[0m",
      "\u001b[0;31mKeyboardInterrupt\u001b[0m                         Traceback (most recent call last)",
      "\u001b[0;32m<ipython-input-28-a736e7ca8a91>\u001b[0m in \u001b[0;36m<module>\u001b[0;34m()\u001b[0m\n\u001b[1;32m      4\u001b[0m     \u001b[0mwriter\u001b[0m\u001b[0;34m.\u001b[0m\u001b[0mwriteheader\u001b[0m\u001b[0;34m(\u001b[0m\u001b[0;34m)\u001b[0m\u001b[0;34m\u001b[0m\u001b[0m\n\u001b[1;32m      5\u001b[0m     \u001b[0;32mfor\u001b[0m \u001b[0mx\u001b[0m \u001b[0;32min\u001b[0m \u001b[0mcursor\u001b[0m\u001b[0;34m:\u001b[0m\u001b[0;34m\u001b[0m\u001b[0m\n\u001b[0;32m----> 6\u001b[0;31m             \u001b[0mwriter\u001b[0m\u001b[0;34m.\u001b[0m\u001b[0mwriterow\u001b[0m\u001b[0;34m(\u001b[0m\u001b[0mx\u001b[0m\u001b[0;34m)\u001b[0m\u001b[0;34m\u001b[0m\u001b[0m\n\u001b[0m\u001b[1;32m      7\u001b[0m \u001b[0;34m\u001b[0m\u001b[0m\n\u001b[1;32m      8\u001b[0m \u001b[0mfields\u001b[0m\u001b[0;34m=\u001b[0m\u001b[0;34m[\u001b[0m\u001b[0;34m'bathrooms'\u001b[0m\u001b[0;34m,\u001b[0m\u001b[0;34m'sqft_price'\u001b[0m\u001b[0;34m,\u001b[0m\u001b[0;34m'takedown'\u001b[0m\u001b[0;34m,\u001b[0m\u001b[0;34m'property_id'\u001b[0m\u001b[0;34m,\u001b[0m\u001b[0;34m'zip'\u001b[0m\u001b[0;34m,\u001b[0m\u001b[0;34m'current_list_price'\u001b[0m\u001b[0;34m,\u001b[0m \u001b[0;34m'previous_sqft_price'\u001b[0m\u001b[0;34m,\u001b[0m\u001b[0;34m'location'\u001b[0m\u001b[0;34m,\u001b[0m\u001b[0;34m'previous_price'\u001b[0m\u001b[0;34m,\u001b[0m \u001b[0;34m'status'\u001b[0m\u001b[0;34m,\u001b[0m \u001b[0;34m'price'\u001b[0m\u001b[0;34m,\u001b[0m\u001b[0;34m'bedrooms'\u001b[0m\u001b[0;34m,\u001b[0m\u001b[0;34m'year_built'\u001b[0m\u001b[0;34m,\u001b[0m\u001b[0;34m'lot_sqft'\u001b[0m\u001b[0;34m,\u001b[0m\u001b[0;34m'created_at'\u001b[0m\u001b[0;34m,\u001b[0m\u001b[0;34m'for_flippers'\u001b[0m\u001b[0;34m,\u001b[0m\u001b[0;34m'sqft'\u001b[0m\u001b[0;34m,\u001b[0m\u001b[0;34m'zone2_ids'\u001b[0m\u001b[0;34m]\u001b[0m\u001b[0;34m\u001b[0m\u001b[0m\n",
      "\u001b[0;32m/Users/Cindy/anaconda2/lib/python2.7/csv.pyc\u001b[0m in \u001b[0;36mwriterow\u001b[0;34m(self, rowdict)\u001b[0m\n\u001b[1;32m    150\u001b[0m \u001b[0;34m\u001b[0m\u001b[0m\n\u001b[1;32m    151\u001b[0m     \u001b[0;32mdef\u001b[0m \u001b[0mwriterow\u001b[0m\u001b[0;34m(\u001b[0m\u001b[0mself\u001b[0m\u001b[0;34m,\u001b[0m \u001b[0mrowdict\u001b[0m\u001b[0;34m)\u001b[0m\u001b[0;34m:\u001b[0m\u001b[0;34m\u001b[0m\u001b[0m\n\u001b[0;32m--> 152\u001b[0;31m         \u001b[0;32mreturn\u001b[0m \u001b[0mself\u001b[0m\u001b[0;34m.\u001b[0m\u001b[0mwriter\u001b[0m\u001b[0;34m.\u001b[0m\u001b[0mwriterow\u001b[0m\u001b[0;34m(\u001b[0m\u001b[0mself\u001b[0m\u001b[0;34m.\u001b[0m\u001b[0m_dict_to_list\u001b[0m\u001b[0;34m(\u001b[0m\u001b[0mrowdict\u001b[0m\u001b[0;34m)\u001b[0m\u001b[0;34m)\u001b[0m\u001b[0;34m\u001b[0m\u001b[0m\n\u001b[0m\u001b[1;32m    153\u001b[0m \u001b[0;34m\u001b[0m\u001b[0m\n\u001b[1;32m    154\u001b[0m     \u001b[0;32mdef\u001b[0m \u001b[0mwriterows\u001b[0m\u001b[0;34m(\u001b[0m\u001b[0mself\u001b[0m\u001b[0;34m,\u001b[0m \u001b[0mrowdicts\u001b[0m\u001b[0;34m)\u001b[0m\u001b[0;34m:\u001b[0m\u001b[0;34m\u001b[0m\u001b[0m\n",
      "\u001b[0;32m/Users/Cindy/anaconda2/lib/python2.7/csv.pyc\u001b[0m in \u001b[0;36m_dict_to_list\u001b[0;34m(self, rowdict)\u001b[0m\n\u001b[1;32m    143\u001b[0m     \u001b[0;32mdef\u001b[0m \u001b[0m_dict_to_list\u001b[0m\u001b[0;34m(\u001b[0m\u001b[0mself\u001b[0m\u001b[0;34m,\u001b[0m \u001b[0mrowdict\u001b[0m\u001b[0;34m)\u001b[0m\u001b[0;34m:\u001b[0m\u001b[0;34m\u001b[0m\u001b[0m\n\u001b[1;32m    144\u001b[0m         \u001b[0;32mif\u001b[0m \u001b[0mself\u001b[0m\u001b[0;34m.\u001b[0m\u001b[0mextrasaction\u001b[0m \u001b[0;34m==\u001b[0m \u001b[0;34m\"raise\"\u001b[0m\u001b[0;34m:\u001b[0m\u001b[0;34m\u001b[0m\u001b[0m\n\u001b[0;32m--> 145\u001b[0;31m             \u001b[0mwrong_fields\u001b[0m \u001b[0;34m=\u001b[0m \u001b[0;34m[\u001b[0m\u001b[0mk\u001b[0m \u001b[0;32mfor\u001b[0m \u001b[0mk\u001b[0m \u001b[0;32min\u001b[0m \u001b[0mrowdict\u001b[0m \u001b[0;32mif\u001b[0m \u001b[0mk\u001b[0m \u001b[0;32mnot\u001b[0m \u001b[0;32min\u001b[0m \u001b[0mself\u001b[0m\u001b[0;34m.\u001b[0m\u001b[0mfieldnames\u001b[0m\u001b[0;34m]\u001b[0m\u001b[0;34m\u001b[0m\u001b[0m\n\u001b[0m\u001b[1;32m    146\u001b[0m             \u001b[0;32mif\u001b[0m \u001b[0mwrong_fields\u001b[0m\u001b[0;34m:\u001b[0m\u001b[0;34m\u001b[0m\u001b[0m\n\u001b[1;32m    147\u001b[0m                 raise ValueError(\"dict contains fields not in fieldnames: \"\n",
      "\u001b[0;31mKeyboardInterrupt\u001b[0m: "
     ]
    }
   ],
   "source": [
    "with open('soldPend_home_v2.csv','w') as outfile:\n",
    "    fields=['bathrooms','sqft_price','takedown', 'property_id','zip','current_list_price','previous_sqft_price','location','previous_price', 'status', 'price','bedrooms','year_built','lot_sqft','created_at','for_flippers','sqft','zone2_ids']\n",
    "    writer=csv.DictWriter(outfile,fieldnames=fields)\n",
    "    writer.writeheader()\n",
    "    for x in cursor:\n",
    "            writer.writerow(x)\n",
    "            \n",
    "fields=['bathrooms','sqft_price','takedown','property_id','zip','current_list_price', 'previous_sqft_price','location','previous_price', 'status', 'price','bedrooms','year_built','lot_sqft','created_at','for_flippers','sqft','zone2_ids']\n",
    "#for index in np.arange(len(fields)):\n",
    "    #print str(index) + \",\" + fields[index]"
   ]
  },
  {
   "cell_type": "code",
   "execution_count": 22,
   "metadata": {
    "collapsed": false
   },
   "outputs": [],
   "source": [
    "import re\n",
    "import datetime\n",
    "pattern1 = r'\\\"\\[(.*)'\n",
    "pattern2 = r'\\s+(.*)\\]'\n",
    "\n",
    "rfile = open('soldPend_home.csv', 'r')\n",
    "line = rfile.readline()  # skip header\n",
    "wfile = open('soldPend_home_all.csv', 'w')\n",
    "wfile.write('pre_sqft_price,pre_price,zipcd,propID,numBath,sqft_price,takedown,cur_lis_price,lat,longt,numBed,year_built,lot_sqft,numDays,year,month,forFlip,sqft,price \\n')\n",
    "\n",
    "line = rfile.readline()\n",
    "ind = 1\n",
    "\n",
    "dateRef = '2016-6-30 12:00:00'\n",
    "\n",
    "#while (line and ind<10):\n",
    "while (line):\n",
    "    #print 'line = ' + line\n",
    "    dataVals = line.split(',')\n",
    "    numBath = dataVals[0]\n",
    "    sqft_price = dataVals[1]\n",
    "    takedown = dataVals[2]\n",
    "    propID = dataVals[3]\n",
    "    #print 'propID = ' + str(int(propID,16))\n",
    "    \n",
    "    zipcd = dataVals[4]\n",
    "    cur_lis_price = dataVals[5]\n",
    "    pre_sqft_price = dataVals[6]\n",
    "    loc1 = dataVals[7]\n",
    "    loc2 = dataVals[8]\n",
    "    pre_price = dataVals[9]\n",
    "    price = dataVals[11]\n",
    "    numBed = dataVals[12]\n",
    "    year_built = dataVals[13]\n",
    "    lot_sqft = dataVals[14]\n",
    "    dateCreated = dataVals[15]\n",
    "    forFlip=dataVals[16]\n",
    "    sqft = dataVals[17]\n",
    "    #zoneID1 = dataVals[18]\n",
    "    #print 'debug = ' + dateCreated\n",
    "    match1 = re.search(pattern1, loc1)\n",
    "    match2 = re.search(pattern2, loc2)\n",
    "    if match1:\n",
    "        lat = match1.group(1)\n",
    "        longt = match2.group(1)       \n",
    "        dt2 = datetime.datetime.strptime(dateCreated, \"%Y-%m-%d %H:%M:%S\")\n",
    "        dt1 = datetime.datetime.strptime(dateRef, \"%Y-%m-%d %H:%M:%S\")\n",
    "        numDays = (dt1-dt2).days # from dateRef\n",
    "        month=dt2.month\n",
    "        year=dt2.year\n",
    "        \n",
    "        wfile.write(pre_sqft_price+','+pre_price+','+zipcd+','+propID +','+ numBath+','+sqft_price+','+takedown+','+cur_lis_price+','\\\n",
    "                    +lat+','+longt+','+numBed+','+year_built+','\\\n",
    "                    +lot_sqft+','+str(numDays)+','+str(year)+','+str(month)+','+forFlip+','\\\n",
    "                    +sqft+','+price+'\\n')\n",
    "    line = rfile.readline()\n",
    "    ind = ind+1\n",
    "rfile.close()   \n",
    "wfile.close()"
   ]
  },
  {
   "cell_type": "code",
   "execution_count": null,
   "metadata": {
    "collapsed": true
   },
   "outputs": [],
   "source": []
  }
 ],
 "metadata": {
  "kernelspec": {
   "display_name": "Python 2",
   "language": "python",
   "name": "python2"
  },
  "language_info": {
   "codemirror_mode": {
    "name": "ipython",
    "version": 2
   },
   "file_extension": ".py",
   "mimetype": "text/x-python",
   "name": "python",
   "nbconvert_exporter": "python",
   "pygments_lexer": "ipython2",
   "version": "2.7.11"
  }
 },
 "nbformat": 4,
 "nbformat_minor": 0
}
